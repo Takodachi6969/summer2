{
 "cells": [
  {
   "cell_type": "code",
   "execution_count": 1,
   "metadata": {},
   "outputs": [
    {
     "name": "stderr",
     "output_type": "stream",
     "text": [
      "<>:3: SyntaxWarning: invalid escape sequence '\\p'\n",
      "<>:3: SyntaxWarning: invalid escape sequence '\\p'\n",
      "C:\\Users\\Peter\\AppData\\Local\\Temp\\ipykernel_9908\\2599788330.py:3: SyntaxWarning: invalid escape sequence '\\p'\n",
      "  sys.path.insert(1, 'Osiris Temp\\processing\\python')\n"
     ]
    }
   ],
   "source": [
    "import importlib\n",
    "import sys\n",
    "sys.path.insert(1, 'Osiris Temp\\processing\\python')\n",
    "import Analysis_tools as aTools\n",
    "import rawFileReader"
   ]
  },
  {
   "cell_type": "code",
   "execution_count": 2,
   "metadata": {},
   "outputs": [],
   "source": [
    "#Example Decorators to capture things in the loop so you don't need to redo any calculations later......\n",
    "def debug_decorator(processedEvents):\n",
    "    def inner_decorator(func):\n",
    "        def wrapper(*args, **kwargs):\n",
    "            result = func(*args, **kwargs)\n",
    "            insertion_list = result\n",
    "            update = args[0]\n",
    "            if insertion_list != [0,0,0,0,0]:\n",
    "                print(f'New alignment, Event chunk {processedEvents}, insertions {insertion_list}, Updates: {update}')\n",
    "            return result\n",
    "        return wrapper\n",
    "    return inner_decorator"
   ]
  },
  {
   "cell_type": "code",
   "execution_count": 3,
   "metadata": {},
   "outputs": [
    {
     "name": "stdout",
     "output_type": "stream",
     "text": [
      "New alignment, Event chunk 1, insertions [0, 0, 0, 1, 3], Updates: [0, 0, -1, -2]\n",
      "New alignment, Event chunk 3, insertions [0, 4, 8, 8, 8], Updates: [-4, -4, 0, 0]\n",
      "New alignment, Event chunk 7, insertions [0, 0, 1, 1, 1], Updates: [0, -1, 0, 0]\n",
      "New alignment, Event chunk 18, insertions [1, 1, 0, 1, 1], Updates: [0, 1, -1, 0]\n",
      "New alignment, Event chunk 19, insertions [1, 1, 1, 1, 0], Updates: [0, 0, 0, 1]\n",
      "New alignment, Event chunk 30, insertions [0, 0, 1, 0, 1], Updates: [0, -1, 1, -1]\n",
      "New alignment, Event chunk 38, insertions [0, 1, 0, 0, 0], Updates: [-1, 1, 0, 0]\n",
      "New alignment, Event chunk 45, insertions [0, 0, 1, 1, 1], Updates: [0, -1, 0, 0]\n",
      "New alignment, Event chunk 46, insertions [1, 1, 0, 0, 0], Updates: [0, 1, 0, 0]\n",
      "New alignment, Event chunk 73, insertions [0, 0, 0, 1, 0], Updates: [0, 0, -1, 1]\n",
      "New alignment, Event chunk 77, insertions [1, 1, 1, 0, 0], Updates: [0, 0, 1, 0]\n",
      "New alignment, Event chunk 78, insertions [0, 1, 1, 1, 2], Updates: [-1, 0, 0, -1]\n",
      "New alignment, Event chunk 79, insertions [1, 1, 1, 0, 0], Updates: [0, 0, 1, 0]\n",
      "New alignment, Event chunk 80, insertions [0, 0, 0, 0, 1], Updates: [0, 0, 0, -1]\n",
      "New alignment, Event chunk 82, insertions [1, 1, 0, 0, 0], Updates: [0, 1, 0, 0]\n",
      "New alignment, Event chunk 88, insertions [2, 0, 1, 1, 1], Updates: [2, -1, 0, 0]\n"
     ]
    }
   ],
   "source": [
    "importlib.reload(rawFileReader)\n",
    "interval = 100\n",
    "file_path = '../../../../Data/Fixed.raw'\n",
    "fReader = rawFileReader.fileReader(file_path)\n",
    "order = [[0,1], [1,2], [2,3], [3,4]] #Your order to the TDC alignment\n",
    "max_process_event_chunk = 100\n",
    "processedEvents = 0\n",
    "events = []\n",
    "\n",
    "#Remember the original function\n",
    "original_ConstructEventInsertionList = aTools.ConstructEventInsertionList \n",
    "\n",
    "while processedEvents < max_process_event_chunk:\n",
    "    processedEvents += 1\n",
    "    #Apply your decorator to change the function\n",
    "    aTools.ConstructEventInsertionList  = debug_decorator(processedEvents)(original_ConstructEventInsertionList)\n",
    "    event = fReader.get_aligned_events(order=order, interval=interval)\n",
    "#reset afterwards\n",
    "aTools.ConstructEventInsertionList  = original_ConstructEventInsertionList\n"
   ]
  },
  {
   "cell_type": "code",
   "execution_count": null,
   "metadata": {},
   "outputs": [],
   "source": [
    "importlib.reload(rawFileReader) # Reload fReader\n",
    "interval = 100 # Set your monitoring chunck size\n",
    "file_path = '../../../../Data/Fixed.raw' # Load in the Raw File\n",
    "fReader = rawFileReader.fileReader(file_path) # load in the classs object\n",
    "order = [[0,1], [1,2], [2,3], [3,4]] # Order what you want to align\n",
    "max_process_event_chunk = 100 # End the loop early\n",
    "processedEvents = 0 # Initialisation\n",
    "while processedEvents < max_process_event_chunk:\n",
    "    processedEvents += 1\n",
    "    event = fReader.get_aligned_events(order=order, interval=interval)\n",
    "    # event is a list of proAnubis event object, size {interval}, where it is globally aligned\n",
    "    # unaligned or realigned chunks are thrown and not outputed\n",
    "    # can use decorators to capture inner variables like alignment metric. Or set it to global and extract\n",
    "\n"
   ]
  }
 ],
 "metadata": {
  "kernelspec": {
   "display_name": "Python 3",
   "language": "python",
   "name": "python3"
  },
  "language_info": {
   "codemirror_mode": {
    "name": "ipython",
    "version": 3
   },
   "file_extension": ".py",
   "mimetype": "text/x-python",
   "name": "python",
   "nbconvert_exporter": "python",
   "pygments_lexer": "ipython3",
   "version": "3.12.0"
  }
 },
 "nbformat": 4,
 "nbformat_minor": 2
}
